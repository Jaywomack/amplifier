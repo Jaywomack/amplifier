{
 "cells": [
  {
   "cell_type": "code",
   "execution_count": 2,
   "metadata": {},
   "outputs": [
    {
     "name": "stdout",
     "output_type": "stream",
     "text": [
      "{0: 0.5488135039273248, 1: 0.7151893663724195, 2: 0.6027633760716439, 3: 0.5448831829968969, 4: 0.4236547993389047}\n",
      "[5, 6, 7, 8, 9, 10]\n"
     ]
    },
    {
     "data": {
      "image/png": "[encoded data removed]",
      "text/plain": [
       "<Figure size 432x288 with 1 Axes>"
      ]
     },
     "metadata": {
      "needs_background": "light"
     },
     "output_type": "display_data"
    }
   ],
   "source": [
    "import numpy as np\n",
    "import matplotlib.pyplot as plt\n",
    "import pandas as pd\n",
    "import seaborn as sns\n",
    "import statsmodels as sm\n",
    "\n",
    "np.random.seed(0)\n",
    "data = {i: np.random.rand() for i in range(5)}\n",
    "print(data)\n",
    "\n",
    "l1=[5,6,7,8,9]\n",
    "l1.append(10)\n",
    "\n",
    "print(l1)\n",
    "\n",
    "plt.plot(np.random.randn(50).cumsum())\n",
    "plt.savefig(\"test.png\")"
   ]
  },
  {
   "cell_type": "code",
   "execution_count": 4,
   "metadata": {},
   "outputs": [
    {
     "name": "stdout",
     "output_type": "stream",
     "text": [
      "<class 'list'>\n",
      "[1]\n",
      "<class 'list'>\n",
      "[2, 3, 4]\n"
     ]
    }
   ],
   "source": [
    "l2 = [1,2,3,4]\n",
    "pivot=2\n",
    "less=[]\n",
    "greater=[]\n",
    "\n",
    "for num in l2:\n",
    "    if num<pivot:\n",
    "        less.append(num)\n",
    "    else:\n",
    "        greater.append(num)\n",
    "\n",
    "print(type(less))\n",
    "print(less)\n",
    "print(type(greater))\n",
    "print(greater)"
   ]
  },
  {
   "cell_type": "code",
   "execution_count": 6,
   "metadata": {},
   "outputs": [
    {
     "name": "stdout",
     "output_type": "stream",
     "text": [
      "[0, 1, 2, 5]\n",
      "[0, 1, 2, 5]\n"
     ]
    }
   ],
   "source": [
    "l3 = [0,1,2]\n",
    "l4=l3\n",
    "l4.append(5)\n",
    "print(l3)\n",
    "print(l4)"
   ]
  },
  {
   "cell_type": "code",
   "execution_count": 10,
   "metadata": {},
   "outputs": [
    {
     "name": "stdout",
     "output_type": "stream",
     "text": [
      "[1, 2, 3]\n",
      "[1, 2, 3]\n",
      "[1, 2, 3, 4]\n"
     ]
    }
   ],
   "source": [
    "def append_element(some_list, element):\n",
    "    some_list.append(element)\n",
    "\n",
    "data=[1,2,3]\n",
    "data2 = data.copy()\n",
    "print(data)\n",
    "append_element(data2,4)\n",
    "print(data)\n",
    "print(data2)"
   ]
  },
  {
   "cell_type": "code",
   "execution_count": 11,
   "metadata": {},
   "outputs": [
    {
     "name": "stdout",
     "output_type": "stream",
     "text": [
      "['foo', 2, (3, 4)]\n"
     ]
    }
   ],
   "source": [
    "a_list=['foo', 2, [4,5]]\n",
    "a_list[2] = (3,4)\n",
    "print(a_list)"
   ]
  },
  {
   "cell_type": "code",
   "execution_count": 17,
   "metadata": {},
   "outputs": [
    {
     "name": "stdout",
     "output_type": "stream",
     "text": [
      "['h', 'e', 'l', 'l', 'o']\n"
     ]
    }
   ],
   "source": [
    "hello = \"hello\"\n",
    "#hello = list(hello)\n",
    "print(list(hello))\n"
   ]
  },
  {
   "cell_type": "code",
   "execution_count": 19,
   "metadata": {},
   "outputs": [
    {
     "name": "stdout",
     "output_type": "stream",
     "text": [
      "12\\34\n",
      "this\\has\\no\\special\\characteers\n"
     ]
    }
   ],
   "source": [
    "s = \"12\\\\34\"\n",
    "print(s)\n",
    "s = r\"this\\has\\no\\special\\characters\"\n",
    "print(s)"
   ]
  },
  {
   "cell_type": "code",
   "execution_count": 24,
   "metadata": {},
   "outputs": [
    {
     "name": "stdout",
     "output_type": "stream",
     "text": [
      "4.56 Argentine Pesos are worth US $100\n"
     ]
    }
   ],
   "source": [
    "template = '{0:.2f}{1:s} are worth US ${2:d}'\n",
    "print(template.format(4.5560, \" Argentine Pesos\", 100))"
   ]
  },
  {
   "cell_type": "code",
   "execution_count": 26,
   "metadata": {},
   "outputs": [
    {
     "name": "stdout",
     "output_type": "stream",
     "text": [
      "27\n",
      "35\n",
      "2022-01-27\n",
      "20:35:15\n",
      "01/27/2022 20:35\n"
     ]
    }
   ],
   "source": [
    "from datetime import datetime, date, time\n",
    "dt=datetime(2022,1,27,20,35,15)\n",
    "print(dt.day)\n",
    "print(dt.minute)\n",
    "\n",
    "print(dt.date())\n",
    "print(dt.time())\n",
    "\n",
    "print(dt.strftime(\"%m/%d/%Y %H:%M\"))"
   ]
  },
  {
   "cell_type": "code",
   "execution_count": 27,
   "metadata": {},
   "outputs": [
    {
     "name": "stdout",
     "output_type": "stream",
     "text": [
      "Thu Jan 27 20:35:15 2022\n"
     ]
    }
   ],
   "source": [
    "print(dt.ctime())"
   ]
  },
  {
   "cell_type": "code",
   "execution_count": 31,
   "metadata": {},
   "outputs": [
    {
     "name": "stdout",
     "output_type": "stream",
     "text": [
      "06/08/2022 12:26\n"
     ]
    }
   ],
   "source": [
    "print(dt.now().strftime(\"%m/%d/%Y %H:%M\"))"
   ]
  },
  {
   "cell_type": "code",
   "execution_count": 35,
   "metadata": {},
   "outputs": [
    {
     "ename": "TypeError",
     "evalue": "unsupported operand type(s) for -: 'builtin_function_or_method' and 'datetime.datetime'",
     "output_type": "error",
     "traceback": [
      "\u001b[1;31m---------------------------------------------------------------------------\u001b[0m",
      "\u001b[1;31mTypeError\u001b[0m                                 Traceback (most recent call last)",
      "\u001b[1;32mUntitled-1.ipynb Cell 12'\u001b[0m in \u001b[0;36m<cell line: 1>\u001b[1;34m()\u001b[0m\n\u001b[1;32m----> <a href='vscode-notebook-cell:Untitled-1.ipynb?jupyter-notebook#ch0000011untitled?line=0'>1</a>\u001b[0m delta\u001b[39m=\u001b[39mdt\u001b[39m.\u001b[39;49mnow \u001b[39m-\u001b[39;49m dt\n\u001b[0;32m      <a href='vscode-notebook-cell:Untitled-1.ipynb?jupyter-notebook#ch0000011untitled?line=1'>2</a>\u001b[0m \u001b[39mprint\u001b[39m(delta)\n",
      "\u001b[1;31mTypeError\u001b[0m: unsupported operand type(s) for -: 'builtin_function_or_method' and 'datetime.datetime'"
     ]
    }
   ],
   "source": [
    "delta=dt.now - dt\n",
    "print(delta)"
   ]
  },
  {
   "cell_type": "code",
   "execution_count": 39,
   "metadata": {},
   "outputs": [
    {
     "name": "stdout",
     "output_type": "stream",
     "text": [
      "positive but smaller than 5\n"
     ]
    }
   ],
   "source": [
    "x=4\n",
    "if x<0:\n",
    "    print(\"It's negative\")\n",
    "elif x == 0:\n",
    "    print(\"Equal to Zero\")\n",
    "elif 0<x<5:\n",
    "    print(\"positive but smaller than 5\")\n",
    "else:\n",
    "    print(\"Positive and larger \")"
   ]
  },
  {
   "cell_type": "code",
   "execution_count": 45,
   "metadata": {},
   "outputs": [
    {
     "name": "stdout",
     "output_type": "stream",
     "text": [
      "Made it\n",
      "0 1\n",
      "1 2\n",
      "3 4\n",
      "7 5\n",
      "12\n"
     ]
    }
   ],
   "source": [
    "a = 4; b =7\n",
    "c = 2; d =4\n",
    "if a<b or c>d:\n",
    "    print(\"Made it\")\n",
    "\n",
    "sequence = [1, 2, None, 4, None, 5]\n",
    "total = 0 \n",
    "for value in sequence:\n",
    "    if value is None:\n",
    "        continue\n",
    "    print(f\"{total} {value}\")\n",
    "    total += value\n",
    "print(total)"
   ]
  },
  {
   "cell_type": "code",
   "execution_count": 51,
   "metadata": {},
   "outputs": [
    {
     "name": "stdout",
     "output_type": "stream",
     "text": [
      "504\n",
      "[0, 1, 2, 3]\n",
      "[0, 2, 4, 6, 8, 10, 12, 14, 16, 18]\n",
      "[5, 4, 3, 2, 1]\n",
      "0\n"
     ]
    }
   ],
   "source": [
    "x=256\n",
    "total=0\n",
    "while x>0:\n",
    "    if total>500:\n",
    "        break\n",
    "    total+=x\n",
    "    x=x//2\n",
    "print(total)\n",
    "\n",
    "print(list(range(0,4)))\n",
    "print(list(range(0,20,2)))\n",
    "print(list(range(5,0,-1)))\n",
    "\n",
    "i=6\n",
    "print(i%2)\n",
    "\n",
    "\n"
   ]
  },
  {
   "cell_type": "code",
   "execution_count": 52,
   "metadata": {},
   "outputs": [
    {
     "name": "stdout",
     "output_type": "stream",
     "text": [
      "Non-negative\n"
     ]
    }
   ],
   "source": [
    "x=5\n",
    "print(\"Non-negative\") if x>=0 else print(\"negative\")"
   ]
  },
  {
   "cell_type": "code",
   "execution_count": 53,
   "metadata": {},
   "outputs": [
    {
     "name": "stdout",
     "output_type": "stream",
     "text": [
      "['CAT', 'FAR', 'LOVE', 'PYTHON']\n"
     ]
    }
   ],
   "source": [
    "list_string = [\"b\", \"is\", \"cat\", \"far\", \"love\", \"python\"]\n",
    "newSList=[y.upper() for y in list_string if len(y)>2]\n",
    "print(newSList)"
   ]
  },
  {
   "cell_type": "code",
   "execution_count": null,
   "metadata": {},
   "outputs": [],
   "source": [
    "string_lengths= {len(x) for x in list_string}\n",
    "print(string_lengths)\n",
    "\n",
    "print(set(map(len, list_string)))\n",
    "\n",
    "print(list(enumerate(list_string)))\n",
    "\n",
    "loc_mapping = {val:index}"
   ]
  }
 ],
 "metadata": {
  "interpreter": {
   "hash": "60a9bbf04f07924e04ccd73e414af3a123ea321323cefc3f84b2aba4695d5449"
  },
  "kernelspec": {
   "display_name": "Python 3.10.5 64-bit",
   "language": "python",
   "name": "python3"
  },
  "language_info": {
   "codemirror_mode": {
    "name": "ipython",
    "version": 3
   },
   "file_extension": ".py",
   "mimetype": "text/x-python",
   "name": "python",
   "nbconvert_exporter": "python",
   "pygments_lexer": "ipython3",
   "version": "3.10.5"
  },
  "orig_nbformat": 4
 },
 "nbformat": 4,
 "nbformat_minor": 2
}
