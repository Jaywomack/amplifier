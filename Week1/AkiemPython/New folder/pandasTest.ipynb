{
 "cells": [
  {
   "cell_type": "code",
   "execution_count": 2,
   "metadata": {},
   "outputs": [
    {
     "name": "stdout",
     "output_type": "stream",
     "text": [
      "4\n",
      "4\n",
      "[16, 0, 1, 25, 36]\n"
     ]
    }
   ],
   "source": [
    "def short_function(x):\n",
    "    return x *2\n",
    "\n",
    "equiv_anon = lambda x: x*2\n",
    "print(equiv_anon(2))\n",
    "print(short_function(2))\n",
    "\n",
    "\n",
    "def apply_to_list(some_list, f):\n",
    "    return[f(x) for x in some_list]\n",
    "ints = [4,0,1,5,6]\n",
    "\n",
    "computed = apply_to_list(ints, lambda x: x**2)\n",
    "print(computed)"
   ]
  },
  {
   "cell_type": "code",
   "execution_count": 4,
   "metadata": {},
   "outputs": [
    {
     "name": "stdout",
     "output_type": "stream",
     "text": [
      "a\n",
      "b\n",
      "c\n",
      "1\n"
     ]
    }
   ],
   "source": [
    "some_dict={'a':1, 'b':2, 'c':3}\n",
    "for key in some_dict:\n",
    "    print(key)\n",
    "print(some_dict['a'])"
   ]
  },
  {
   "cell_type": "code",
   "execution_count": 6,
   "metadata": {},
   "outputs": [
    {
     "name": "stdout",
     "output_type": "stream",
     "text": [
      "['a', 'b', 'c']\n"
     ]
    }
   ],
   "source": [
    "dict_iterator= iter(some_dict)\n",
    "lItDict = list(dict_iterator)\n",
    "print(lItDict)"
   ]
  },
  {
   "cell_type": "markdown",
   "metadata": {},
   "source": [
    "## Checking out itertools"
   ]
  },
  {
   "cell_type": "code",
   "execution_count": 8,
   "metadata": {},
   "outputs": [
    {
     "name": "stdout",
     "output_type": "stream",
     "text": [
      "A ['Alan', 'Adam']\n",
      "W ['Wes', 'Will']\n",
      "A ['Albert']\n",
      "S ['Steven']\n"
     ]
    }
   ],
   "source": [
    "import itertools\n",
    "#import functools\n",
    "\n",
    "first_letter=lambda x:x[0]\n",
    "names = ['Alan', 'Adam', 'Wes', 'Will', 'Albert', 'Steven']\n",
    "for letter,names in itertools.groupby(names, first_letter):\n",
    "    print(letter, list(names))\n"
   ]
  },
  {
   "cell_type": "code",
   "execution_count": null,
   "metadata": {},
   "outputs": [],
   "source": [
    "import numpy as np\n",
    "\n",
    "arr1 = np.arange(1000000)\n",
    "list1 =list(arr1)\n",
    "print(arr1)\n",
    "print(type(arr1))\n",
    "print(list1)\n",
    "print(type(list1))\n"
   ]
  },
  {
   "cell_type": "code",
   "execution_count": 24,
   "metadata": {},
   "outputs": [
    {
     "name": "stdout",
     "output_type": "stream",
     "text": [
      "[[ 1.76405235  0.40015721  0.97873798]\n",
      " [ 2.2408932   1.86755799 -0.97727788]]\n",
      "[[17.64052346  4.00157208  9.78737984]\n",
      " [22.40893199 18.6755799  -9.7727788 ]]\n",
      "[[ 3.52810469  0.80031442  1.95747597]\n",
      " [ 4.4817864   3.73511598 -1.95455576]]\n",
      "(2, 3)\n",
      "float64\n",
      "[[ 0.95008842 -0.15135721 -0.10321885]\n",
      " [ 0.4105985   0.14404357  1.45427351]]\n",
      "[ 9.  17.5 12.   0.   0.5]\n",
      "[[1 2 3 4]\n",
      " [5 6 7 8]]\n",
      "int32\n",
      "<class 'numpy.ndarray'>\n",
      "[[0. 0. 0. 0. 0. 0.]\n",
      " [0. 0. 0. 0. 0. 0.]\n",
      " [0. 0. 0. 0. 0. 0.]]\n"
     ]
    }
   ],
   "source": [
    "np.random.seed(0)\n",
    "data = np.random.randn(2,3)\n",
    "print(data)\n",
    "\n",
    "print(data*10)\n",
    "data2 = data+data\n",
    "print(data2)\n",
    "\n",
    "print(data.shape)\n",
    "print(data.dtype)\n",
    "\n",
    "data3 = np.random.randn(2,3)\n",
    "print(data3)\n",
    "\n",
    "data4= [9,17.5, 12, 0, 0.5]\n",
    "arr1 = np.array(data4)\n",
    "print(arr1)\n",
    "\n",
    "data5 = [[1,2,3,4], [5,6,7,8]]\n",
    "arr2 = np.array(data5)\n",
    "print(arr2)\n",
    "print(arr2.dtype)\n",
    "print(type(arr2))\n",
    "\n",
    "np.zeros(10)\n",
    "print(np.zeros((3,6)))"
   ]
  },
  {
   "cell_type": "code",
   "execution_count": null,
   "metadata": {},
   "outputs": [],
   "source": []
  }
 ],
 "metadata": {
  "interpreter": {
   "hash": "60a9bbf04f07924e04ccd73e414af3a123ea321323cefc3f84b2aba4695d5449"
  },
  "kernelspec": {
   "display_name": "Python 3.10.5 64-bit",
   "language": "python",
   "name": "python3"
  },
  "language_info": {
   "codemirror_mode": {
    "name": "ipython",
    "version": 3
   },
   "file_extension": ".py",
   "mimetype": "text/x-python",
   "name": "python",
   "nbconvert_exporter": "python",
   "pygments_lexer": "ipython3",
   "version": "3.10.5"
  },
  "orig_nbformat": 4
 },
 "nbformat": 4,
 "nbformat_minor": 2
}
