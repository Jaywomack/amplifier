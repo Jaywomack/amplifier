{
 "cells": [
  {
   "cell_type": "markdown",
   "metadata": {},
   "source": [
    "# Akiem Watley Week 1 HW"
   ]
  },
  {
   "cell_type": "markdown",
   "metadata": {},
   "source": [
    "1) Create a Python program to output the following basic JSON notation.\n",
    "Output:\n",
    "{\n",
    "\"donut_name\":\"Vanilla Donut\",\n",
    "\"quantity_purchased\":\"10\",\n",
    "\"price\":2.5\n",
    "}\n"
   ]
  },
  {
   "cell_type": "code",
   "execution_count": 3,
   "metadata": {},
   "outputs": [
    {
     "name": "stdout",
     "output_type": "stream",
     "text": [
      "{\n",
      "    \"donut_name\": \"Vanilla Donut\",\n",
      "    \"quantity_purchased\": \"10\",\n",
      "    \"price\": 2.5\n",
      "}\n",
      "{'donut_name': 'Vanilla Donut', 'quantity_purchased': '10', 'price': 2.5}\n"
     ]
    }
   ],
   "source": [
    "import json\n",
    " \n",
    "output ={\n",
    "    \"donut_name\":\"Vanilla Donut\",\n",
    "    \"quantity_purchased\":\"10\",\n",
    "    \"price\":2.5\n",
    "}\n",
    "\n",
    "json_object = json.dumps(output, indent=4)\n",
    "\n",
    "print(json_object)"
   ]
  },
  {
   "cell_type": "markdown",
   "metadata": {},
   "source": [
    "2) Create a Python program to prompt customers for their name and age. The format for the name and age labels should be in bold. And, the name literal should be underlined.\n"
   ]
  },
  {
   "cell_type": "code",
   "execution_count": 11,
   "metadata": {},
   "outputs": [
    {
     "name": "stdout",
     "output_type": "stream",
     "text": [
      "Hello I will be collecting some information about you.\n",
      "So you say your name is \u001b[4m\u001b[1mtest\u001b[0m and you are 33 yrs old.\n"
     ]
    }
   ],
   "source": [
    "class color:\n",
    "   PURPLE = '\\033[95m'\n",
    "   CYAN = '\\033[96m'\n",
    "   DARKCYAN = '\\033[36m'\n",
    "   BLUE = '\\033[94m'\n",
    "   GREEN = '\\033[92m'\n",
    "   YELLOW = '\\033[93m'\n",
    "   RED = '\\033[91m'\n",
    "   BOLD = '\\033[1m'\n",
    "   UNDERLINE = '\\033[4m'\n",
    "   END = '\\033[0m'\n",
    "\n",
    "def Get_Info(name = \"John Doe\", age = 17):\n",
    "    print(f\"Hello I will be collecting some information about you.\")\n",
    "    name = input(f\"{color.BOLD}{color.UNDERLINE}Name:{color.END} \")\n",
    "    age = input(f\"{color.BOLD}Age:{color.END} \")\n",
    "    print(f\"So you say your name is {color.UNDERLINE}{color.BOLD}{name}{color.END} and you are {age} yrs old.\")    \n",
    "Get_Info()"
   ]
  },
  {
   "cell_type": "markdown",
   "metadata": {},
   "source": [
    "3. Create a Python program to find the 8th character in the String: \"http://allaboutscala\".\n"
   ]
  },
  {
   "cell_type": "code",
   "execution_count": 17,
   "metadata": {},
   "outputs": [
    {
     "name": "stdout",
     "output_type": "stream",
     "text": [
      "The 8th character in the String is: a\n"
     ]
    }
   ],
   "source": [
    "def Find_8_Char(string_to_parse):\n",
    "    return string_to_parse[7]\n",
    "\n",
    "print(\"The 8th character in the String is:\", Find_8_Char(\"http://allaboutscala\"))"
   ]
  },
  {
   "cell_type": "markdown",
   "metadata": {},
   "source": [
    "4. Create a Python program to calculate the total cost for a customer who is buying 10 Glazed donuts. You can assume that the price of each Glazed donut item is at $2.50. Notice the format of the $25.00 total cost literal, which is essentially at 2 decimal places"
   ]
  },
  {
   "cell_type": "code",
   "execution_count": 26,
   "metadata": {},
   "outputs": [
    {
     "name": "stdout",
     "output_type": "stream",
     "text": [
      "25.0\n"
     ]
    }
   ],
   "source": [
    "def Compute_Donate_Cost(number_of_donuts):\n",
    "    DONUT_PRICE = 2.50\n",
    "    return int(number_of_donuts) * DONUT_PRICE\n",
    "\n",
    "custOrder = input(\"Please enter the number of donuts the customer would like: \")\n",
    "print(Compute_Donate_Cost(custOrder))\n"
   ]
  },
  {
   "cell_type": "markdown",
   "metadata": {},
   "source": [
    "5. Create a Python program that will ask the following question to a customer: \"What is your favorite movie of all times?\"."
   ]
  },
  {
   "cell_type": "code",
   "execution_count": 30,
   "metadata": {},
   "outputs": [
    {
     "name": "stdout",
     "output_type": "stream",
     "text": [
      "So you're telling me Nonya that's your favorite movie of all time!\n"
     ]
    }
   ],
   "source": [
    "def Quiz_Customer():\n",
    "    customer_Answer = input(\"What is your favorite movie of all times?\")\n",
    "    print(\"So you're telling me \" + customer_Answer + \" is your favorite movie of all time!\")\n",
    "Quiz_Customer()"
   ]
  },
  {
   "cell_type": "markdown",
   "metadata": {},
   "source": [
    "6. Create a Python program to output your name and favorite movie.\n",
    "Output:\n",
    "First Name: Nadim\n",
    "Last Name: Bahadoor\n",
    "Favorite Movie: The Matrix"
   ]
  },
  {
   "cell_type": "code",
   "execution_count": 33,
   "metadata": {},
   "outputs": [
    {
     "name": "stdout",
     "output_type": "stream",
     "text": [
      "Well I haven't seen nonya but it was definitely a pleasure meeting you, Akiem Watley\n"
     ]
    }
   ],
   "source": [
    "def Get_To_Know_You():\n",
    "    First_Name = input(\"Please enter your first name: \")\n",
    "    Last_Name = input(First_Name + \", please enter your last name: \")\n",
    "    Favorite_Movie =  input(First_Name + \" \" + Last_Name + \" \" + \" good to meet you what's your favorite movie: \")\n",
    "    print(\"Well I haven't seen \" + Favorite_Movie + \" but it was definitely a pleasure meeting you, \" + \"Akiem \" + \"Watley\")\n",
    "\n",
    "Get_To_Know_You()"
   ]
  },
  {
   "cell_type": "markdown",
   "metadata": {},
   "source": [
    "7. Create a Python program to parse the corresponding values from the given String \"Vanilla Donut 10 2.25\", where the literal Vanilla Donut is a particular donut, the 10 literal is the quantity purchased, and 2.25 is the unit price of each Vanilla Donut. You further need to cast each token from the input String to their corresponding types, such as, an Int, Double or String.\n"
   ]
  },
  {
   "cell_type": "code",
   "execution_count": 2,
   "metadata": {},
   "outputs": [
    {
     "name": "stdout",
     "output_type": "stream",
     "text": [
      "['Vanilla', 'Donut', '10', '2.25']\n",
      "You ordered 10 Vanilla Donut's at 2.25 for a total of $22.5.\n",
      "['Chocolate', 'Donut', '2', '3.2']\n",
      "You ordered 2 Chocolate Donut's at 3.2 for a total of $6.4.\n"
     ]
    }
   ],
   "source": [
    "def parseString(theString):\n",
    "    n=0\n",
    "    donut = []\n",
    "    qty = 0\n",
    "    price = 0.00\n",
    "    temp = theString.rsplit(' ')\n",
    "    \n",
    "    while(n != len(temp)):\n",
    "        \n",
    "        if(str.isnumeric(temp[n]) and qty == 0):\n",
    "            qty = int(temp[n])\n",
    "        elif(str.isalpha(temp[n])):\n",
    "            donut.append(temp[n])\n",
    "        else:\n",
    "            price = float(temp[n])\n",
    "        n+=1\n",
    "    print(temp)\n",
    "\n",
    "    print(f\"You ordered {qty} {donut[0]} {donut[1]}'s at {price} for a total of ${qty*price}.\")\n",
    "\n",
    "parseString(\"Vanilla Donut 10 2.25\")\n",
    "parseString(\"Chocolate Donut 2 3.2\")\n"
   ]
  },
  {
   "cell_type": "markdown",
   "metadata": {},
   "source": [
    "8. Create a Python program and use an appropriate data structure to present the following key and value pairs of children and their ages: Bill is 9 years old, Jonny is 8 years old, Tommy is 11 years old, and Cindy is 13 years old. Sort out the corresponding child to age in reverse alphabet order.\n"
   ]
  },
  {
   "cell_type": "code",
   "execution_count": 1,
   "metadata": {},
   "outputs": [
    {
     "name": "stdout",
     "output_type": "stream",
     "text": [
      "[('Bill', 9), ('Johnny', 8), ('Tommy', 11), ('Cindy', 13)]\n"
     ]
    }
   ],
   "source": [
    "children = [(\"Bill\", 9), (\"Johnny\",8), (\"Tommy\", 11), (\"Cindy\", 13)]\n"
   ]
  },
  {
   "cell_type": "markdown",
   "metadata": {},
   "source": [
    "9. Let us assume that you two shopping baskets with a bunch of items in each one. The first contains elements: \"Cake\", \"Milk\", \"Cheese\", \"Toilet Paper\", and the second one has the following items: \"Bread\", \"Water\", \"Juice\", \"Milk\", \"Cheese\". Write a Python program to find the common items between the two shopping baskets. You can use whichever data structure that you feel is appropriate for this particular problem.\n"
   ]
  },
  {
   "cell_type": "code",
   "execution_count": null,
   "metadata": {},
   "outputs": [],
   "source": []
  },
  {
   "cell_type": "markdown",
   "metadata": {},
   "source": [
    "10. Create a Python program that defines a sequence of numbers from 100 to 110. The sequence should include the 100 starting number literal, and ends with the 110 number literal."
   ]
  },
  {
   "cell_type": "code",
   "execution_count": 113,
   "metadata": {},
   "outputs": [
    {
     "name": "stdout",
     "output_type": "stream",
     "text": [
      "[100, 101, 102, 103, 104, 105, 106, 107, 108, 109, 110]\n"
     ]
    }
   ],
   "source": [
    "seq = list(range(100, 111))\n",
    "print(seq)"
   ]
  }
 ],
 "metadata": {
  "interpreter": {
   "hash": "60a9bbf04f07924e04ccd73e414af3a123ea321323cefc3f84b2aba4695d5449"
  },
  "kernelspec": {
   "display_name": "Python 3.10.5 64-bit",
   "language": "python",
   "name": "python3"
  },
  "language_info": {
   "codemirror_mode": {
    "name": "ipython",
    "version": 3
   },
   "file_extension": ".py",
   "mimetype": "text/x-python",
   "name": "python",
   "nbconvert_exporter": "python",
   "pygments_lexer": "ipython3",
   "version": "3.10.5"
  },
  "orig_nbformat": 4
 },
 "nbformat": 4,
 "nbformat_minor": 2
}
